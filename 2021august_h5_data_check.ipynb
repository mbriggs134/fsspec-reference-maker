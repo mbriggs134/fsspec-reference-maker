{
 "cells": [
  {
   "cell_type": "code",
   "execution_count": 29,
   "outputs": [],
   "source": [
    "import os\n",
    "import json\n",
    "\n",
    "import pandas as pd"
   ],
   "metadata": {
    "collapsed": false,
    "pycharm": {
     "name": "#%%\n"
    }
   }
  },
  {
   "cell_type": "code",
   "execution_count": 30,
   "outputs": [
    {
     "ename": "FileNotFoundError",
     "evalue": "[Errno 2] No such file or directory: 'results_live/das_h5/das_example_ref_fs.json'",
     "output_type": "error",
     "traceback": [
      "\u001B[0;31m---------------------------------------------------------------------------\u001B[0m",
      "\u001B[0;31mFileNotFoundError\u001B[0m                         Traceback (most recent call last)",
      "\u001B[0;32m/tmp/ipykernel_23703/4175721265.py\u001B[0m in \u001B[0;36m<module>\u001B[0;34m\u001B[0m\n\u001B[1;32m      4\u001B[0m \u001B[0mreference_file\u001B[0m \u001B[0;34m=\u001B[0m \u001B[0;34m'results_live/das_h5/das_example_ref_fs.json'\u001B[0m\u001B[0;34m\u001B[0m\u001B[0;34m\u001B[0m\u001B[0m\n\u001B[1;32m      5\u001B[0m \u001B[0;34m\u001B[0m\u001B[0m\n\u001B[0;32m----> 6\u001B[0;31m \u001B[0;32mwith\u001B[0m \u001B[0mopen\u001B[0m\u001B[0;34m(\u001B[0m\u001B[0mreference_file\u001B[0m\u001B[0;34m,\u001B[0m\u001B[0;34m'r'\u001B[0m\u001B[0;34m)\u001B[0m \u001B[0;32mas\u001B[0m \u001B[0mf\u001B[0m\u001B[0;34m:\u001B[0m\u001B[0;34m\u001B[0m\u001B[0;34m\u001B[0m\u001B[0m\n\u001B[0m\u001B[1;32m      7\u001B[0m   \u001B[0mdata\u001B[0m \u001B[0;34m=\u001B[0m \u001B[0mjson\u001B[0m\u001B[0;34m.\u001B[0m\u001B[0mload\u001B[0m\u001B[0;34m(\u001B[0m\u001B[0mf\u001B[0m\u001B[0;34m)\u001B[0m\u001B[0;34m\u001B[0m\u001B[0;34m\u001B[0m\u001B[0m\n\u001B[1;32m      8\u001B[0m \u001B[0;34mf\"{reference_file} has {len(data['refs'])} references\"\u001B[0m\u001B[0;34m\u001B[0m\u001B[0;34m\u001B[0m\u001B[0m\n",
      "\u001B[0;31mFileNotFoundError\u001B[0m: [Errno 2] No such file or directory: 'results_live/das_h5/das_example_ref_fs.json'"
     ]
    }
   ],
   "source": [
    "FOLDER = '/mnt/hgfs/ssd_tmp/'\n",
    "h5_filename = os.path.join(FOLDER, 'das_example.h5')\n",
    "\n",
    "reference_file = 'results_live/das_h5/das_example_ref_fs.json'\n",
    "\n",
    "with open(reference_file,'r') as f:\n",
    "  data = json.load(f)\n",
    "f\"{reference_file} has {len(data['refs'])} references\""
   ],
   "metadata": {
    "collapsed": false,
    "pycharm": {
     "name": "#%%\n"
    }
   }
  },
  {
   "cell_type": "code",
   "execution_count": null,
   "outputs": [],
   "source": [
    "def create_reference_dataFrame(data):\n",
    "    '''\n",
    "        Create a dataframe from the references\n",
    "    '''\n",
    "    ref_l = []\n",
    "    template = data['templates']\n",
    "    print(template['u'])\n",
    "\n",
    "    for k,v in data['refs'].items():\n",
    "        if isinstance(v,list):\n",
    "            ref_d = {}\n",
    "            ref_d['name'] = k\n",
    "            ref_d['key'] = template[v[0][2]]\n",
    "            ref_d['offset'] = v[1]\n",
    "            ref_d['bytes'] = v[2]\n",
    "            ref_d['end'] = ref_d['offset'] + ref_d['bytes'] - 1\n",
    "            ref_l.append(ref_d)\n",
    "\n",
    "    # create dataframe sorted by offset and reindexed\n",
    "    df = pd.DataFrame(ref_l).sort_values('offset').reset_index()\n",
    "    #\n",
    "    # add gap column\n",
    "    df['gap'] = df['offset'] - df.shift(1)['end']\n",
    "\n",
    "    # return the dataframe\n",
    "    return df"
   ],
   "metadata": {
    "collapsed": false,
    "pycharm": {
     "name": "#%%\n"
    }
   }
  },
  {
   "cell_type": "code",
   "execution_count": null,
   "outputs": [],
   "source": [
    "ref_df = create_reference_dataFrame(data)\n",
    "total_data = ref_df.bytes.sum()\n",
    "maxEnd = ref_df.end.max()\n",
    "coverage = total_data / maxEnd\n",
    "print(ref_df.head())\n",
    "f\"Total data: {total_data} Largest end: {maxEnd}  Approximate coverage: {coverage:.2f}\""
   ],
   "metadata": {
    "collapsed": false,
    "pycharm": {
     "name": "#%%\n"
    }
   }
  },
  {
   "cell_type": "code",
   "execution_count": null,
   "outputs": [],
   "source": [
    "#\n",
    "# calculate the gap between contiguous blocks\n",
    "#\n",
    "ref_df['gap'] = ref_df['offset'] - ref_df.shift(1)['end']\n",
    "pd.set_option('max_colwidth', 90)\n",
    "ref_df.head(10)"
   ],
   "metadata": {
    "collapsed": false,
    "pycharm": {
     "name": "#%%\n"
    }
   }
  },
  {
   "cell_type": "code",
   "execution_count": null,
   "outputs": [],
   "source": [
    "ref_df.hist(column='bytes')"
   ],
   "metadata": {
    "collapsed": false,
    "pycharm": {
     "name": "#%%\n"
    }
   }
  },
  {
   "cell_type": "code",
   "execution_count": null,
   "outputs": [],
   "source": [
    "ref_df[ref_df.bytes <= 10000].head(30)"
   ],
   "metadata": {
    "collapsed": false,
    "pycharm": {
     "name": "#%%\n"
    }
   }
  },
  {
   "cell_type": "code",
   "execution_count": null,
   "outputs": [],
   "source": [
    "ref_df.bytes.value_counts()"
   ],
   "metadata": {
    "collapsed": false,
    "pycharm": {
     "name": "#%%\n"
    }
   }
  },
  {
   "cell_type": "code",
   "execution_count": null,
   "outputs": [],
   "source": [
    "ref_df.hist(column='gap')"
   ],
   "metadata": {
    "collapsed": false,
    "pycharm": {
     "name": "#%%\n"
    }
   }
  },
  {
   "cell_type": "code",
   "execution_count": null,
   "outputs": [],
   "source": [
    "ref_df[ref_df.gap > 1]"
   ],
   "metadata": {
    "collapsed": false,
    "pycharm": {
     "name": "#%%\n"
    }
   }
  }
 ],
 "metadata": {
  "kernelspec": {
   "display_name": "Python 3",
   "language": "python",
   "name": "python3"
  },
  "language_info": {
   "codemirror_mode": {
    "name": "ipython",
    "version": 2
   },
   "file_extension": ".py",
   "mimetype": "text/x-python",
   "name": "python",
   "nbconvert_exporter": "python",
   "pygments_lexer": "ipython2",
   "version": "2.7.6"
  }
 },
 "nbformat": 4,
 "nbformat_minor": 0
}