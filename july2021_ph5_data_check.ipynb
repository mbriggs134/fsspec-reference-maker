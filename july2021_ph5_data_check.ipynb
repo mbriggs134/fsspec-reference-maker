{
 "cells": [
  {
   "cell_type": "code",
   "execution_count": 1,
   "metadata": {
    "collapsed": true
   },
   "outputs": [],
   "source": [
    "import json\n",
    "import pandas as pd"
   ]
  },
  {
   "cell_type": "code",
   "execution_count": 2,
   "outputs": [],
   "source": [
    "mini_json_filename = 'results_20210718/ph5_19-003_example/miniPH5_00001_ref_fs.json'"
   ],
   "metadata": {
    "collapsed": false,
    "pycharm": {
     "name": "#%% Consts\n"
    }
   }
  },
  {
   "cell_type": "code",
   "execution_count": 3,
   "outputs": [],
   "source": [
    "def not_data_key(key : str) -> bool:\n",
    "    \"\"\"\n",
    "    This function looks for if a key is a known .zXXX and if so returns true\n",
    "    :param key: dict key from reference json\n",
    "    :return: Boolean true if is a known zarr key\n",
    "    \"\"\"\n",
    "    is_zattrs = key.endswith('.zattrs')\n",
    "    is_zarray = key.endswith('.zarray')\n",
    "    is_zgroup = key.endswith('.zgroup')\n",
    "    return is_zattrs or is_zarray or is_zgroup"
   ],
   "metadata": {
    "collapsed": false,
    "pycharm": {
     "name": "#%% Filter funcs\n"
    }
   }
  },
  {
   "cell_type": "code",
   "execution_count": 4,
   "outputs": [],
   "source": [
    "fp = open(mini_json_filename)\n",
    "mini_json = json.load(fp)\n",
    "fp.close()"
   ],
   "metadata": {
    "collapsed": false,
    "pycharm": {
     "name": "#%% Just work directly with JSON\n"
    }
   }
  },
  {
   "cell_type": "code",
   "execution_count": 5,
   "outputs": [],
   "source": [
    "def walk_dict(d: dict, key_filt):\n",
    "    rtn_d = {}\n",
    "    for k, v in d.items():\n",
    "        if key_filt(k):\n",
    "            continue # filter value by not returning\n",
    "        if isinstance(v, dict):\n",
    "            sub_dict = walk_dict(v, key_filt)\n",
    "            if len(sub_dict) > 0: # only assign if this subdict was not empty\n",
    "                rtn_d.setdefault(k, sub_dict)\n",
    "        else:\n",
    "            rtn_d.setdefault(k, v)\n",
    "\n",
    "    return rtn_d\n",
    "\n",
    "data_dict = walk_dict(mini_json, not_data_key)"
   ],
   "metadata": {
    "collapsed": false,
    "pycharm": {
     "name": "#%%\n"
    }
   }
  },
  {
   "cell_type": "code",
   "execution_count": 6,
   "outputs": [],
   "source": [
    "df = pd.DataFrame(data_dict['refs'])\n",
    "df = df.transpose()\n",
    "df = df.reset_index()\n",
    "df.columns = ['path', 'prefix', 'offset', 'size']"
   ],
   "metadata": {
    "collapsed": false,
    "pycharm": {
     "name": "#%%\n"
    }
   }
  },
  {
   "cell_type": "code",
   "execution_count": 7,
   "outputs": [
    {
     "data": {
      "text/plain": "                                                  path prefix   offset   size  \\\n0         Experiment_g/Maps_g/Das_g_1X101/Hdr_a_0001/0  {{u}}  1986632   2694   \n1         Experiment_g/Maps_g/Das_g_1X101/Hdr_a_0002/0  {{u}}  9400674   2911   \n2    Experiment_g/Receivers_g/Das_g_1X101/Data_a_00...  {{u}}   103968  34386   \n3    Experiment_g/Receivers_g/Das_g_1X101/Data_a_00...  {{u}}   138354  34273   \n4    Experiment_g/Receivers_g/Das_g_1X101/Data_a_00...  {{u}}   446154  34082   \n..                                                 ...    ...      ...    ...   \n327  Experiment_g/Receivers_g/Das_g_1X101/Data_a_00...  {{u}}  9400579     95   \n328  Experiment_g/Receivers_g/Das_g_1X101/Data_a_00...  {{u}}  8385343  33087   \n329  Experiment_g/Receivers_g/Das_g_1X101/Data_a_00...  {{u}}  8418430  32742   \n330  Experiment_g/Receivers_g/Das_g_1X101/Data_a_00...  {{u}}  8451172  33001   \n331  Experiment_g/Receivers_g/Das_g_1X101/Data_a_00...  {{u}}  8484173  32843   \n\n        das_name    data_name chunk_num  \n0    Das_g_1X101   Hdr_a_0001         0  \n1    Das_g_1X101   Hdr_a_0002         0  \n2    Das_g_1X101  Data_a_0001         0  \n3    Das_g_1X101  Data_a_0001         1  \n4    Das_g_1X101  Data_a_0001        10  \n..           ...          ...       ...  \n327  Das_g_1X101  Data_a_0006        54  \n328  Das_g_1X101  Data_a_0006         6  \n329  Das_g_1X101  Data_a_0006         7  \n330  Das_g_1X101  Data_a_0006         8  \n331  Das_g_1X101  Data_a_0006         9  \n\n[332 rows x 7 columns]",
      "text/html": "<div>\n<style scoped>\n    .dataframe tbody tr th:only-of-type {\n        vertical-align: middle;\n    }\n\n    .dataframe tbody tr th {\n        vertical-align: top;\n    }\n\n    .dataframe thead th {\n        text-align: right;\n    }\n</style>\n<table border=\"1\" class=\"dataframe\">\n  <thead>\n    <tr style=\"text-align: right;\">\n      <th></th>\n      <th>path</th>\n      <th>prefix</th>\n      <th>offset</th>\n      <th>size</th>\n      <th>das_name</th>\n      <th>data_name</th>\n      <th>chunk_num</th>\n    </tr>\n  </thead>\n  <tbody>\n    <tr>\n      <th>0</th>\n      <td>Experiment_g/Maps_g/Das_g_1X101/Hdr_a_0001/0</td>\n      <td>{{u}}</td>\n      <td>1986632</td>\n      <td>2694</td>\n      <td>Das_g_1X101</td>\n      <td>Hdr_a_0001</td>\n      <td>0</td>\n    </tr>\n    <tr>\n      <th>1</th>\n      <td>Experiment_g/Maps_g/Das_g_1X101/Hdr_a_0002/0</td>\n      <td>{{u}}</td>\n      <td>9400674</td>\n      <td>2911</td>\n      <td>Das_g_1X101</td>\n      <td>Hdr_a_0002</td>\n      <td>0</td>\n    </tr>\n    <tr>\n      <th>2</th>\n      <td>Experiment_g/Receivers_g/Das_g_1X101/Data_a_00...</td>\n      <td>{{u}}</td>\n      <td>103968</td>\n      <td>34386</td>\n      <td>Das_g_1X101</td>\n      <td>Data_a_0001</td>\n      <td>0</td>\n    </tr>\n    <tr>\n      <th>3</th>\n      <td>Experiment_g/Receivers_g/Das_g_1X101/Data_a_00...</td>\n      <td>{{u}}</td>\n      <td>138354</td>\n      <td>34273</td>\n      <td>Das_g_1X101</td>\n      <td>Data_a_0001</td>\n      <td>1</td>\n    </tr>\n    <tr>\n      <th>4</th>\n      <td>Experiment_g/Receivers_g/Das_g_1X101/Data_a_00...</td>\n      <td>{{u}}</td>\n      <td>446154</td>\n      <td>34082</td>\n      <td>Das_g_1X101</td>\n      <td>Data_a_0001</td>\n      <td>10</td>\n    </tr>\n    <tr>\n      <th>...</th>\n      <td>...</td>\n      <td>...</td>\n      <td>...</td>\n      <td>...</td>\n      <td>...</td>\n      <td>...</td>\n      <td>...</td>\n    </tr>\n    <tr>\n      <th>327</th>\n      <td>Experiment_g/Receivers_g/Das_g_1X101/Data_a_00...</td>\n      <td>{{u}}</td>\n      <td>9400579</td>\n      <td>95</td>\n      <td>Das_g_1X101</td>\n      <td>Data_a_0006</td>\n      <td>54</td>\n    </tr>\n    <tr>\n      <th>328</th>\n      <td>Experiment_g/Receivers_g/Das_g_1X101/Data_a_00...</td>\n      <td>{{u}}</td>\n      <td>8385343</td>\n      <td>33087</td>\n      <td>Das_g_1X101</td>\n      <td>Data_a_0006</td>\n      <td>6</td>\n    </tr>\n    <tr>\n      <th>329</th>\n      <td>Experiment_g/Receivers_g/Das_g_1X101/Data_a_00...</td>\n      <td>{{u}}</td>\n      <td>8418430</td>\n      <td>32742</td>\n      <td>Das_g_1X101</td>\n      <td>Data_a_0006</td>\n      <td>7</td>\n    </tr>\n    <tr>\n      <th>330</th>\n      <td>Experiment_g/Receivers_g/Das_g_1X101/Data_a_00...</td>\n      <td>{{u}}</td>\n      <td>8451172</td>\n      <td>33001</td>\n      <td>Das_g_1X101</td>\n      <td>Data_a_0006</td>\n      <td>8</td>\n    </tr>\n    <tr>\n      <th>331</th>\n      <td>Experiment_g/Receivers_g/Das_g_1X101/Data_a_00...</td>\n      <td>{{u}}</td>\n      <td>8484173</td>\n      <td>32843</td>\n      <td>Das_g_1X101</td>\n      <td>Data_a_0006</td>\n      <td>9</td>\n    </tr>\n  </tbody>\n</table>\n<p>332 rows × 7 columns</p>\n</div>"
     },
     "execution_count": 7,
     "metadata": {},
     "output_type": "execute_result"
    }
   ],
   "source": [
    "split_key = df['path'].str.split('/')\n",
    "# IMPROVE handling if data is not at the same depth of path (n*'/')\n",
    "key_df = pd.DataFrame(split_key.to_list()) # convert to 2D df\n",
    "\n",
    "df['das_name'] = key_df[2].to_numpy()\n",
    "df['data_name'] = key_df[3].to_numpy()\n",
    "df['chunk_num'] = key_df[4].to_numpy()\n",
    "df"
   ],
   "metadata": {
    "collapsed": false,
    "pycharm": {
     "name": "#%% Add das_name, data_name, and chunk_num from path\n"
    }
   }
  },
  {
   "cell_type": "code",
   "execution_count": 8,
   "outputs": [
    {
     "data": {
      "text/plain": "data_name\nData_a_0001    1879640\nData_a_0002    1244348\nData_a_0003    1876519\nData_a_0004    1243070\nData_a_0005    1820589\nData_a_0006    1211238\nHdr_a_0001        2694\nHdr_a_0002        2911\nName: size, dtype: object"
     },
     "execution_count": 8,
     "metadata": {},
     "output_type": "execute_result"
    }
   ],
   "source": [
    "df.groupby('data_name')['size'].sum()"
   ],
   "metadata": {
    "collapsed": false,
    "pycharm": {
     "name": "#%% Do some fun summarizing\n"
    }
   }
  },
  {
   "cell_type": "code",
   "execution_count": 9,
   "outputs": [
    {
     "data": {
      "text/plain": "9281009"
     },
     "execution_count": 9,
     "metadata": {},
     "output_type": "execute_result"
    }
   ],
   "source": [
    "df['size'].sum()\n"
   ],
   "metadata": {
    "collapsed": false,
    "pycharm": {
     "name": "#%% Just sum quickly the entire file\n"
    }
   }
  },
  {
   "cell_type": "code",
   "execution_count": 9,
   "outputs": [],
   "source": [],
   "metadata": {
    "collapsed": false,
    "pycharm": {
     "name": "#%%\n"
    }
   }
  }
 ],
 "metadata": {
  "kernelspec": {
   "display_name": "Python 3",
   "language": "python",
   "name": "python3"
  },
  "language_info": {
   "codemirror_mode": {
    "name": "ipython",
    "version": 2
   },
   "file_extension": ".py",
   "mimetype": "text/x-python",
   "name": "python",
   "nbconvert_exporter": "python",
   "pygments_lexer": "ipython2",
   "version": "2.7.6"
  }
 },
 "nbformat": 4,
 "nbformat_minor": 0
}