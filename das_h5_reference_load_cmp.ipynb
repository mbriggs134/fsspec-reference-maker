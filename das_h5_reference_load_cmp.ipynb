{
 "cells": [
  {
   "cell_type": "markdown",
   "source": [
    "# Validating fsspec reference marker's zarr versus orginal hdf (netcdf4) for DAS dataset\n",
    "## Creation notes\n",
    "Original HDF dataset from: https://ds.iris.edu/pub/dropoff/buffer/PH5/das_example.h5\n",
    "Reference json file created via script: das_h5_to_ref.py (in this repo)\n",
    "\n",
    "## Methodology\n",
    "Load both datasets via xarray.  One from json refernce file using zarr and\n",
    "one from orginal netcdf4 format.  Compared in the following ways:\n",
    "1. High level using xArray equity operator '=='\n",
    "2. Comparing individual DataArray \"Acoustic\"\n",
    "3. Comparing Dataset attrs (for this example file there are none)\n",
    "4. Comparaing individual DataArray \"Acoustic\" attrs\n",
    "\n",
    "## Future work\n",
    "1. Add even more ways to compare files like plotting an event from both\n",
    "   datasets to demostrate how to extract data, units, and plot them.\n",
    "2. In other notebooks replicate this for other formats like PH5, MTH, ..."
   ],
   "metadata": {
    "collapsed": false,
    "pycharm": {
     "name": "#%% md\n"
    }
   }
  },
  {
   "cell_type": "code",
   "execution_count": 87,
   "outputs": [],
   "source": [
    "import os\n",
    "import numpy as np\n",
    "import xarray as xr\n",
    "import fsspec"
   ],
   "metadata": {
    "collapsed": false,
    "pycharm": {
     "name": "#%% Libs\n"
    }
   }
  },
  {
   "cell_type": "code",
   "execution_count": 88,
   "outputs": [],
   "source": [
    "FOLDER = '/mnt/hgfs/ssd_tmp/'\n",
    "h5_filename = os.path.join(FOLDER, 'das_example.h5')\n",
    "\n",
    "reference_file = 'results_20210809/das_h5/das_example_ref_fs.json'"
   ],
   "metadata": {
    "collapsed": false,
    "pycharm": {
     "name": "#%% File locations EDIT HERE for your local drive\n"
    }
   }
  },
  {
   "cell_type": "code",
   "execution_count": 89,
   "outputs": [
    {
     "name": "stderr",
     "output_type": "stream",
     "text": [
      "/tmp/ipykernel_34544/1198180153.py:7: RuntimeWarning: Failed to open Zarr store with consolidated metadata, falling back to try reading non-consolidated metadata. This is typically much slower for opening a dataset. To silence this warning, consider:\n",
      "1. Consolidating metadata in this existing store with zarr.consolidate_metadata().\n",
      "2. Explicitly setting consolidated=False, to avoid trying to read consolidate metadata, or\n",
      "3. Explicitly setting consolidated=True, to raise an error in this case instead of falling back to try reading non-consolidated metadata.\n",
      "  ds_zarr = xr.open_dataset(m, engine=\"zarr\", mask_and_scale=False)\n"
     ]
    },
    {
     "data": {
      "text/plain": "<xarray.Dataset>\nDimensions:   (phony_dim_0: 24750, phony_dim_1: 960)\nDimensions without coordinates: phony_dim_0, phony_dim_1\nData variables:\n    Acoustic  (phony_dim_0, phony_dim_1) int16 ...",
      "text/html": "<div><svg style=\"position: absolute; width: 0; height: 0; overflow: hidden\">\n<defs>\n<symbol id=\"icon-database\" viewBox=\"0 0 32 32\">\n<path d=\"M16 0c-8.837 0-16 2.239-16 5v4c0 2.761 7.163 5 16 5s16-2.239 16-5v-4c0-2.761-7.163-5-16-5z\"></path>\n<path d=\"M16 17c-8.837 0-16-2.239-16-5v6c0 2.761 7.163 5 16 5s16-2.239 16-5v-6c0 2.761-7.163 5-16 5z\"></path>\n<path d=\"M16 26c-8.837 0-16-2.239-16-5v6c0 2.761 7.163 5 16 5s16-2.239 16-5v-6c0 2.761-7.163 5-16 5z\"></path>\n</symbol>\n<symbol id=\"icon-file-text2\" viewBox=\"0 0 32 32\">\n<path d=\"M28.681 7.159c-0.694-0.947-1.662-2.053-2.724-3.116s-2.169-2.030-3.116-2.724c-1.612-1.182-2.393-1.319-2.841-1.319h-15.5c-1.378 0-2.5 1.121-2.5 2.5v27c0 1.378 1.122 2.5 2.5 2.5h23c1.378 0 2.5-1.122 2.5-2.5v-19.5c0-0.448-0.137-1.23-1.319-2.841zM24.543 5.457c0.959 0.959 1.712 1.825 2.268 2.543h-4.811v-4.811c0.718 0.556 1.584 1.309 2.543 2.268zM28 29.5c0 0.271-0.229 0.5-0.5 0.5h-23c-0.271 0-0.5-0.229-0.5-0.5v-27c0-0.271 0.229-0.5 0.5-0.5 0 0 15.499-0 15.5 0v7c0 0.552 0.448 1 1 1h7v19.5z\"></path>\n<path d=\"M23 26h-14c-0.552 0-1-0.448-1-1s0.448-1 1-1h14c0.552 0 1 0.448 1 1s-0.448 1-1 1z\"></path>\n<path d=\"M23 22h-14c-0.552 0-1-0.448-1-1s0.448-1 1-1h14c0.552 0 1 0.448 1 1s-0.448 1-1 1z\"></path>\n<path d=\"M23 18h-14c-0.552 0-1-0.448-1-1s0.448-1 1-1h14c0.552 0 1 0.448 1 1s-0.448 1-1 1z\"></path>\n</symbol>\n</defs>\n</svg>\n<style>/* CSS stylesheet for displaying xarray objects in jupyterlab.\n *\n */\n\n:root {\n  --xr-font-color0: var(--jp-content-font-color0, rgba(0, 0, 0, 1));\n  --xr-font-color2: var(--jp-content-font-color2, rgba(0, 0, 0, 0.54));\n  --xr-font-color3: var(--jp-content-font-color3, rgba(0, 0, 0, 0.38));\n  --xr-border-color: var(--jp-border-color2, #e0e0e0);\n  --xr-disabled-color: var(--jp-layout-color3, #bdbdbd);\n  --xr-background-color: var(--jp-layout-color0, white);\n  --xr-background-color-row-even: var(--jp-layout-color1, white);\n  --xr-background-color-row-odd: var(--jp-layout-color2, #eeeeee);\n}\n\nhtml[theme=dark],\nbody.vscode-dark {\n  --xr-font-color0: rgba(255, 255, 255, 1);\n  --xr-font-color2: rgba(255, 255, 255, 0.54);\n  --xr-font-color3: rgba(255, 255, 255, 0.38);\n  --xr-border-color: #1F1F1F;\n  --xr-disabled-color: #515151;\n  --xr-background-color: #111111;\n  --xr-background-color-row-even: #111111;\n  --xr-background-color-row-odd: #313131;\n}\n\n.xr-wrap {\n  display: block;\n  min-width: 300px;\n  max-width: 700px;\n}\n\n.xr-text-repr-fallback {\n  /* fallback to plain text repr when CSS is not injected (untrusted notebook) */\n  display: none;\n}\n\n.xr-header {\n  padding-top: 6px;\n  padding-bottom: 6px;\n  margin-bottom: 4px;\n  border-bottom: solid 1px var(--xr-border-color);\n}\n\n.xr-header > div,\n.xr-header > ul {\n  display: inline;\n  margin-top: 0;\n  margin-bottom: 0;\n}\n\n.xr-obj-type,\n.xr-array-name {\n  margin-left: 2px;\n  margin-right: 10px;\n}\n\n.xr-obj-type {\n  color: var(--xr-font-color2);\n}\n\n.xr-sections {\n  padding-left: 0 !important;\n  display: grid;\n  grid-template-columns: 150px auto auto 1fr 20px 20px;\n}\n\n.xr-section-item {\n  display: contents;\n}\n\n.xr-section-item input {\n  display: none;\n}\n\n.xr-section-item input + label {\n  color: var(--xr-disabled-color);\n}\n\n.xr-section-item input:enabled + label {\n  cursor: pointer;\n  color: var(--xr-font-color2);\n}\n\n.xr-section-item input:enabled + label:hover {\n  color: var(--xr-font-color0);\n}\n\n.xr-section-summary {\n  grid-column: 1;\n  color: var(--xr-font-color2);\n  font-weight: 500;\n}\n\n.xr-section-summary > span {\n  display: inline-block;\n  padding-left: 0.5em;\n}\n\n.xr-section-summary-in:disabled + label {\n  color: var(--xr-font-color2);\n}\n\n.xr-section-summary-in + label:before {\n  display: inline-block;\n  content: '►';\n  font-size: 11px;\n  width: 15px;\n  text-align: center;\n}\n\n.xr-section-summary-in:disabled + label:before {\n  color: var(--xr-disabled-color);\n}\n\n.xr-section-summary-in:checked + label:before {\n  content: '▼';\n}\n\n.xr-section-summary-in:checked + label > span {\n  display: none;\n}\n\n.xr-section-summary,\n.xr-section-inline-details {\n  padding-top: 4px;\n  padding-bottom: 4px;\n}\n\n.xr-section-inline-details {\n  grid-column: 2 / -1;\n}\n\n.xr-section-details {\n  display: none;\n  grid-column: 1 / -1;\n  margin-bottom: 5px;\n}\n\n.xr-section-summary-in:checked ~ .xr-section-details {\n  display: contents;\n}\n\n.xr-array-wrap {\n  grid-column: 1 / -1;\n  display: grid;\n  grid-template-columns: 20px auto;\n}\n\n.xr-array-wrap > label {\n  grid-column: 1;\n  vertical-align: top;\n}\n\n.xr-preview {\n  color: var(--xr-font-color3);\n}\n\n.xr-array-preview,\n.xr-array-data {\n  padding: 0 5px !important;\n  grid-column: 2;\n}\n\n.xr-array-data,\n.xr-array-in:checked ~ .xr-array-preview {\n  display: none;\n}\n\n.xr-array-in:checked ~ .xr-array-data,\n.xr-array-preview {\n  display: inline-block;\n}\n\n.xr-dim-list {\n  display: inline-block !important;\n  list-style: none;\n  padding: 0 !important;\n  margin: 0;\n}\n\n.xr-dim-list li {\n  display: inline-block;\n  padding: 0;\n  margin: 0;\n}\n\n.xr-dim-list:before {\n  content: '(';\n}\n\n.xr-dim-list:after {\n  content: ')';\n}\n\n.xr-dim-list li:not(:last-child):after {\n  content: ',';\n  padding-right: 5px;\n}\n\n.xr-has-index {\n  font-weight: bold;\n}\n\n.xr-var-list,\n.xr-var-item {\n  display: contents;\n}\n\n.xr-var-item > div,\n.xr-var-item label,\n.xr-var-item > .xr-var-name span {\n  background-color: var(--xr-background-color-row-even);\n  margin-bottom: 0;\n}\n\n.xr-var-item > .xr-var-name:hover span {\n  padding-right: 5px;\n}\n\n.xr-var-list > li:nth-child(odd) > div,\n.xr-var-list > li:nth-child(odd) > label,\n.xr-var-list > li:nth-child(odd) > .xr-var-name span {\n  background-color: var(--xr-background-color-row-odd);\n}\n\n.xr-var-name {\n  grid-column: 1;\n}\n\n.xr-var-dims {\n  grid-column: 2;\n}\n\n.xr-var-dtype {\n  grid-column: 3;\n  text-align: right;\n  color: var(--xr-font-color2);\n}\n\n.xr-var-preview {\n  grid-column: 4;\n}\n\n.xr-var-name,\n.xr-var-dims,\n.xr-var-dtype,\n.xr-preview,\n.xr-attrs dt {\n  white-space: nowrap;\n  overflow: hidden;\n  text-overflow: ellipsis;\n  padding-right: 10px;\n}\n\n.xr-var-name:hover,\n.xr-var-dims:hover,\n.xr-var-dtype:hover,\n.xr-attrs dt:hover {\n  overflow: visible;\n  width: auto;\n  z-index: 1;\n}\n\n.xr-var-attrs,\n.xr-var-data {\n  display: none;\n  background-color: var(--xr-background-color) !important;\n  padding-bottom: 5px !important;\n}\n\n.xr-var-attrs-in:checked ~ .xr-var-attrs,\n.xr-var-data-in:checked ~ .xr-var-data {\n  display: block;\n}\n\n.xr-var-data > table {\n  float: right;\n}\n\n.xr-var-name span,\n.xr-var-data,\n.xr-attrs {\n  padding-left: 25px !important;\n}\n\n.xr-attrs,\n.xr-var-attrs,\n.xr-var-data {\n  grid-column: 1 / -1;\n}\n\ndl.xr-attrs {\n  padding: 0;\n  margin: 0;\n  display: grid;\n  grid-template-columns: 125px auto;\n}\n\n.xr-attrs dt,\n.xr-attrs dd {\n  padding: 0;\n  margin: 0;\n  float: left;\n  padding-right: 10px;\n  width: auto;\n}\n\n.xr-attrs dt {\n  font-weight: normal;\n  grid-column: 1;\n}\n\n.xr-attrs dt:hover span {\n  display: inline-block;\n  background: var(--xr-background-color);\n  padding-right: 10px;\n}\n\n.xr-attrs dd {\n  grid-column: 2;\n  white-space: pre-wrap;\n  word-break: break-all;\n}\n\n.xr-icon-database,\n.xr-icon-file-text2 {\n  display: inline-block;\n  vertical-align: middle;\n  width: 1em;\n  height: 1.5em !important;\n  stroke-width: 0;\n  stroke: currentColor;\n  fill: currentColor;\n}\n</style><pre class='xr-text-repr-fallback'>&lt;xarray.Dataset&gt;\nDimensions:   (phony_dim_0: 24750, phony_dim_1: 960)\nDimensions without coordinates: phony_dim_0, phony_dim_1\nData variables:\n    Acoustic  (phony_dim_0, phony_dim_1) int16 ...</pre><div class='xr-wrap' hidden><div class='xr-header'><div class='xr-obj-type'>xarray.Dataset</div></div><ul class='xr-sections'><li class='xr-section-item'><input id='section-a6e113b4-5f10-4e62-9958-9da714ffb32a' class='xr-section-summary-in' type='checkbox' disabled ><label for='section-a6e113b4-5f10-4e62-9958-9da714ffb32a' class='xr-section-summary'  title='Expand/collapse section'>Dimensions:</label><div class='xr-section-inline-details'><ul class='xr-dim-list'><li><span>phony_dim_0</span>: 24750</li><li><span>phony_dim_1</span>: 960</li></ul></div><div class='xr-section-details'></div></li><li class='xr-section-item'><input id='section-0bfc52c5-3399-42d4-9dbd-e52b02eb7680' class='xr-section-summary-in' type='checkbox' disabled ><label for='section-0bfc52c5-3399-42d4-9dbd-e52b02eb7680' class='xr-section-summary'  title='Expand/collapse section'>Coordinates: <span>(0)</span></label><div class='xr-section-inline-details'></div><div class='xr-section-details'><ul class='xr-var-list'></ul></div></li><li class='xr-section-item'><input id='section-bfc17f58-9828-4584-92bd-c7c2a231e6ad' class='xr-section-summary-in' type='checkbox'  checked><label for='section-bfc17f58-9828-4584-92bd-c7c2a231e6ad' class='xr-section-summary' >Data variables: <span>(1)</span></label><div class='xr-section-inline-details'></div><div class='xr-section-details'><ul class='xr-var-list'><li class='xr-var-item'><div class='xr-var-name'><span>Acoustic</span></div><div class='xr-var-dims'>(phony_dim_0, phony_dim_1)</div><div class='xr-var-dtype'>int16</div><div class='xr-var-preview xr-preview'>...</div><input id='attrs-952a26c8-e30c-4ad6-bbfb-ffbed94160d4' class='xr-var-attrs-in' type='checkbox' ><label for='attrs-952a26c8-e30c-4ad6-bbfb-ffbed94160d4' title='Show/Hide attributes'><svg class='icon xr-icon-file-text2'><use xlink:href='#icon-file-text2'></use></svg></label><input id='data-d72cce3c-552c-41a4-81d1-86dc49013163' class='xr-var-data-in' type='checkbox'><label for='data-d72cce3c-552c-41a4-81d1-86dc49013163' title='Show/Hide data repr'><svg class='icon xr-icon-database'><use xlink:href='#icon-database'></use></svg></label><div class='xr-var-attrs'><dl class='xr-attrs'><dt><span>Acoustic Output :</span></dt><dd>Differential</dd><dt><span>Attenuator 1 :</span></dt><dd>0</dd><dt><span>Attenuator 2 :</span></dt><dd>0.870537</dd><dt><span>CPUTimeStamp :</span></dt><dd>18/11/2019 12:26:58.773 (UTC)</dd><dt><span>Continuous Mode :</span></dt><dd>False</dd><dt><span>Decimation Filter :</span></dt><dd>True</dd><dt><span>Defragmented :</span></dt><dd>False</dd><dt><span>Diagnostic Output :</span></dt><dd>R, S, As &amp; dP</dd><dt><span>Diff Amplify Factor :</span></dt><dd>0</dd><dt><span>Fibre Length Multiplier :</span></dt><dd>1.020952</dd><dt><span>Fibre Length per Metre :</span></dt><dd>1</dd><dt><span>FibreIndex :</span></dt><dd>1.4682</dd><dt><span>GPSTimeStamp :</span></dt><dd>18/11/2019 12:26:58.769 (UTC)</dd><dt><span>GaugeLength :</span></dt><dd>10</dd><dt><span>ISO8601 Timestamp :</span></dt><dd>2019-11-18T12:26:58.769+00:00</dd><dt><span>Integration Cut Off (Hz) :</span></dt><dd>3.14</dd><dt><span>MeasureLength[m] :</span></dt><dd>960</dd><dt><span>Normalization :</span></dt><dd>True</dd><dt><span>OffsetLength :</span></dt><dd>64</dd><dt><span>OutputDecimation[bool] :</span></dt><dd>4</dd><dt><span>P :</span></dt><dd>5</dd><dt><span>P Coefficients :</span></dt><dd>1.00\t1.00\t1.00\t1.00\t1.00\r\n</dd><dt><span>Peak Voltage 2 (V) :</span></dt><dd>0</dd><dt><span>PeakVoltage[V] :</span></dt><dd>2</dd><dt><span>Power Decrement :</span></dt><dd>0</dd><dt><span>PreTrigSamples :</span></dt><dd>94</dd><dt><span>Precise Sampling Frequency (Hz) :</span></dt><dd>90009.0009</dd><dt><span>Pulse 2 Delay (ns) :</span></dt><dd>500</dd><dt><span>Pulse Width 2 (ns) :</span></dt><dd>50</dd><dt><span>PulseWidth[ns] :</span></dt><dd>50</dd><dt><span>Receiver Gain :</span></dt><dd>41.00\t41.00\t41.00\r\n</dd><dt><span>Reference Level 1 :</span></dt><dd>65535</dd><dt><span>Reference Level 2 :</span></dt><dd>62567</dd><dt><span>Reference Level 3 :</span></dt><dd>59528</dd><dt><span>Reference length :</span></dt><dd>0</dd><dt><span>SamplingFrequency[Hz] :</span></dt><dd>5000</dd><dt><span>SavingBandwidth (MB/s) :</span></dt><dd>350</dd><dt><span>Source Mode :</span></dt><dd>Normal</dd><dt><span>SpatialResolution[m] :</span></dt><dd>1</dd><dt><span>Start Distance (m) :</span></dt><dd>-125.020952</dd><dt><span>StartPosition[m] :</span></dt><dd>96.544731</dd><dt><span>Stop Distance (m) :</span></dt><dd>854.093337</dd><dt><span>StreamTime[s] :</span></dt><dd>5</dd><dt><span>SystemInfomation.Chassis.FanRPMs :</span></dt><dd>0.00\t0.00\t0.00\r\n</dd><dt><span>SystemInfomation.Chassis.Model :</span></dt><dd></dd><dt><span>SystemInfomation.Chassis.SerialNum :</span></dt><dd></dd><dt><span>SystemInfomation.Chassis.TempReadings :</span></dt><dd>0.00\t0.00\t0.00\t0.00\t0.00\t0.00\t0.00\t0.00\r\n</dd><dt><span>SystemInfomation.Chassis.VoltReadings :</span></dt><dd>0.00\t0.00\t0.00\t0.00\t0.00\r\n</dd><dt><span>SystemInfomation.Devices0.Model :</span></dt><dd>6683</dd><dt><span>SystemInfomation.Devices0.SerialNum :</span></dt><dd>01A4D486</dd><dt><span>SystemInfomation.Devices1.Model :</span></dt><dd>GPIB</dd><dt><span>SystemInfomation.Devices1.SerialNum :</span></dt><dd>0307FB5E</dd><dt><span>SystemInfomation.GPS.Altitude :</span></dt><dd>0</dd><dt><span>SystemInfomation.GPS.Latitude :</span></dt><dd>0</dd><dt><span>SystemInfomation.GPS.Longitude :</span></dt><dd>0</dd><dt><span>SystemInfomation.GPS.SatellitesAvailable :</span></dt><dd>0</dd><dt><span>SystemInfomation.GPS.SelfSurvey :</span></dt><dd>0</dd><dt><span>SystemInfomation.GPS.Status :</span></dt><dd>Uninitialized</dd><dt><span>SystemInfomation.GPS.TimeReference :</span></dt><dd>GPS</dd><dt><span>SystemInfomation.GPS.UTCOffset :</span></dt><dd>NaN</dd><dt><span>SystemInfomation.OS.DST :</span></dt><dd>0</dd><dt><span>SystemInfomation.OS.HostName :</span></dt><dd>iDAS15040</dd><dt><span>SystemInfomation.OS.TimeZone :</span></dt><dd>UTC+00:00 Coordinated Universal Time</dd><dt><span>SystemInfomation.OS.Version :</span></dt><dd>Windows 7 Professional Service Pack 1</dd><dt><span>SystemInfomation.ProcessingUnit.APIRevision.ADQAPI :</span></dt><dd>18313</dd><dt><span>SystemInfomation.ProcessingUnit.APIRevision.UserAPI :</span></dt><dd>775</dd><dt><span>SystemInfomation.ProcessingUnit.APIRevision.UserLogic :</span></dt><dd>794</dd><dt><span>SystemInfomation.ProcessingUnit.FPGA1.Firmware :</span></dt><dd>1.4P1</dd><dt><span>SystemInfomation.ProcessingUnit.FPGA1.Model :</span></dt><dd>AA-14-2</dd><dt><span>SystemInfomation.ProcessingUnit.FPGA1.SerialNum :</span></dt><dd>02831</dd><dt><span>SystemInfomation.ProcessingUnit.FPGA1.TempReadings :</span></dt><dd>39.12\t65.44\t69.78\t40.12\t47.37\r\n</dd><dt><span>SystemInfomation.ProcessingUnit.FPGA2.Firmware :</span></dt><dd></dd><dt><span>SystemInfomation.ProcessingUnit.FPGA2.Model :</span></dt><dd></dd><dt><span>SystemInfomation.ProcessingUnit.FPGA2.SerialNum :</span></dt><dd></dd><dt><span>SystemInfomation.ProcessingUnit.FPGA2.TempReadings :</span></dt><dd>0.00\r\n</dd><dt><span>Tags :</span></dt><dd></dd><dt><span>Time Decimation :</span></dt><dd>18</dd><dt><span>Unit Calibration (nm) :</span></dt><dd>116</dd><dt><span>UserZeroRef :</span></dt><dd>0</dd><dt><span>Window :</span></dt><dd>0</dd><dt><span>Zero Offset (m) :</span></dt><dd>-125.020952</dd><dt><span>iDASClockSource :</span></dt><dd>AA Onboard PLL</dd><dt><span>iDASVersion :</span></dt><dd>2.4.1.111</dd><dt><span>_FillValue :</span></dt><dd>0</dd></dl></div><div class='xr-var-data'><pre>[23760000 values with dtype=int16]</pre></div></li></ul></div></li><li class='xr-section-item'><input id='section-43e360d0-0e97-4ba7-9eb0-3390818dc52e' class='xr-section-summary-in' type='checkbox' disabled ><label for='section-43e360d0-0e97-4ba7-9eb0-3390818dc52e' class='xr-section-summary'  title='Expand/collapse section'>Attributes: <span>(0)</span></label><div class='xr-section-inline-details'></div><div class='xr-section-details'><dl class='xr-attrs'></dl></div></li></ul></div></div>"
     },
     "execution_count": 89,
     "metadata": {},
     "output_type": "execute_result"
    }
   ],
   "source": [
    "uri = f'file://{reference_file}'\n",
    "\n",
    "fs = fsspec.filesystem('reference', fo=uri, remote_protocol=\"file\")\n",
    "m = fs.get_mapper(\"\")\n",
    "# ds_zarr = xr.open_dataset(m, engine=\"zarr\") # This caused data array to come in as float32\n",
    "# Per https://stackoverflow.com/questions/68460507/xarray-loading-int-data-as-float\n",
    "ds_zarr = xr.open_dataset(m, engine=\"zarr\", mask_and_scale=False)\n",
    "ds_zarr"
   ],
   "metadata": {
    "collapsed": false,
    "pycharm": {
     "name": "#%% Load dataset into xArray via zarr\n"
    }
   }
  },
  {
   "cell_type": "code",
   "execution_count": 90,
   "outputs": [
    {
     "data": {
      "text/plain": "<xarray.Dataset>\nDimensions:   (phony_dim_0: 24750, phony_dim_1: 960)\nDimensions without coordinates: phony_dim_0, phony_dim_1\nData variables:\n    Acoustic  (phony_dim_0, phony_dim_1) int16 ...",
      "text/html": "<div><svg style=\"position: absolute; width: 0; height: 0; overflow: hidden\">\n<defs>\n<symbol id=\"icon-database\" viewBox=\"0 0 32 32\">\n<path d=\"M16 0c-8.837 0-16 2.239-16 5v4c0 2.761 7.163 5 16 5s16-2.239 16-5v-4c0-2.761-7.163-5-16-5z\"></path>\n<path d=\"M16 17c-8.837 0-16-2.239-16-5v6c0 2.761 7.163 5 16 5s16-2.239 16-5v-6c0 2.761-7.163 5-16 5z\"></path>\n<path d=\"M16 26c-8.837 0-16-2.239-16-5v6c0 2.761 7.163 5 16 5s16-2.239 16-5v-6c0 2.761-7.163 5-16 5z\"></path>\n</symbol>\n<symbol id=\"icon-file-text2\" viewBox=\"0 0 32 32\">\n<path d=\"M28.681 7.159c-0.694-0.947-1.662-2.053-2.724-3.116s-2.169-2.030-3.116-2.724c-1.612-1.182-2.393-1.319-2.841-1.319h-15.5c-1.378 0-2.5 1.121-2.5 2.5v27c0 1.378 1.122 2.5 2.5 2.5h23c1.378 0 2.5-1.122 2.5-2.5v-19.5c0-0.448-0.137-1.23-1.319-2.841zM24.543 5.457c0.959 0.959 1.712 1.825 2.268 2.543h-4.811v-4.811c0.718 0.556 1.584 1.309 2.543 2.268zM28 29.5c0 0.271-0.229 0.5-0.5 0.5h-23c-0.271 0-0.5-0.229-0.5-0.5v-27c0-0.271 0.229-0.5 0.5-0.5 0 0 15.499-0 15.5 0v7c0 0.552 0.448 1 1 1h7v19.5z\"></path>\n<path d=\"M23 26h-14c-0.552 0-1-0.448-1-1s0.448-1 1-1h14c0.552 0 1 0.448 1 1s-0.448 1-1 1z\"></path>\n<path d=\"M23 22h-14c-0.552 0-1-0.448-1-1s0.448-1 1-1h14c0.552 0 1 0.448 1 1s-0.448 1-1 1z\"></path>\n<path d=\"M23 18h-14c-0.552 0-1-0.448-1-1s0.448-1 1-1h14c0.552 0 1 0.448 1 1s-0.448 1-1 1z\"></path>\n</symbol>\n</defs>\n</svg>\n<style>/* CSS stylesheet for displaying xarray objects in jupyterlab.\n *\n */\n\n:root {\n  --xr-font-color0: var(--jp-content-font-color0, rgba(0, 0, 0, 1));\n  --xr-font-color2: var(--jp-content-font-color2, rgba(0, 0, 0, 0.54));\n  --xr-font-color3: var(--jp-content-font-color3, rgba(0, 0, 0, 0.38));\n  --xr-border-color: var(--jp-border-color2, #e0e0e0);\n  --xr-disabled-color: var(--jp-layout-color3, #bdbdbd);\n  --xr-background-color: var(--jp-layout-color0, white);\n  --xr-background-color-row-even: var(--jp-layout-color1, white);\n  --xr-background-color-row-odd: var(--jp-layout-color2, #eeeeee);\n}\n\nhtml[theme=dark],\nbody.vscode-dark {\n  --xr-font-color0: rgba(255, 255, 255, 1);\n  --xr-font-color2: rgba(255, 255, 255, 0.54);\n  --xr-font-color3: rgba(255, 255, 255, 0.38);\n  --xr-border-color: #1F1F1F;\n  --xr-disabled-color: #515151;\n  --xr-background-color: #111111;\n  --xr-background-color-row-even: #111111;\n  --xr-background-color-row-odd: #313131;\n}\n\n.xr-wrap {\n  display: block;\n  min-width: 300px;\n  max-width: 700px;\n}\n\n.xr-text-repr-fallback {\n  /* fallback to plain text repr when CSS is not injected (untrusted notebook) */\n  display: none;\n}\n\n.xr-header {\n  padding-top: 6px;\n  padding-bottom: 6px;\n  margin-bottom: 4px;\n  border-bottom: solid 1px var(--xr-border-color);\n}\n\n.xr-header > div,\n.xr-header > ul {\n  display: inline;\n  margin-top: 0;\n  margin-bottom: 0;\n}\n\n.xr-obj-type,\n.xr-array-name {\n  margin-left: 2px;\n  margin-right: 10px;\n}\n\n.xr-obj-type {\n  color: var(--xr-font-color2);\n}\n\n.xr-sections {\n  padding-left: 0 !important;\n  display: grid;\n  grid-template-columns: 150px auto auto 1fr 20px 20px;\n}\n\n.xr-section-item {\n  display: contents;\n}\n\n.xr-section-item input {\n  display: none;\n}\n\n.xr-section-item input + label {\n  color: var(--xr-disabled-color);\n}\n\n.xr-section-item input:enabled + label {\n  cursor: pointer;\n  color: var(--xr-font-color2);\n}\n\n.xr-section-item input:enabled + label:hover {\n  color: var(--xr-font-color0);\n}\n\n.xr-section-summary {\n  grid-column: 1;\n  color: var(--xr-font-color2);\n  font-weight: 500;\n}\n\n.xr-section-summary > span {\n  display: inline-block;\n  padding-left: 0.5em;\n}\n\n.xr-section-summary-in:disabled + label {\n  color: var(--xr-font-color2);\n}\n\n.xr-section-summary-in + label:before {\n  display: inline-block;\n  content: '►';\n  font-size: 11px;\n  width: 15px;\n  text-align: center;\n}\n\n.xr-section-summary-in:disabled + label:before {\n  color: var(--xr-disabled-color);\n}\n\n.xr-section-summary-in:checked + label:before {\n  content: '▼';\n}\n\n.xr-section-summary-in:checked + label > span {\n  display: none;\n}\n\n.xr-section-summary,\n.xr-section-inline-details {\n  padding-top: 4px;\n  padding-bottom: 4px;\n}\n\n.xr-section-inline-details {\n  grid-column: 2 / -1;\n}\n\n.xr-section-details {\n  display: none;\n  grid-column: 1 / -1;\n  margin-bottom: 5px;\n}\n\n.xr-section-summary-in:checked ~ .xr-section-details {\n  display: contents;\n}\n\n.xr-array-wrap {\n  grid-column: 1 / -1;\n  display: grid;\n  grid-template-columns: 20px auto;\n}\n\n.xr-array-wrap > label {\n  grid-column: 1;\n  vertical-align: top;\n}\n\n.xr-preview {\n  color: var(--xr-font-color3);\n}\n\n.xr-array-preview,\n.xr-array-data {\n  padding: 0 5px !important;\n  grid-column: 2;\n}\n\n.xr-array-data,\n.xr-array-in:checked ~ .xr-array-preview {\n  display: none;\n}\n\n.xr-array-in:checked ~ .xr-array-data,\n.xr-array-preview {\n  display: inline-block;\n}\n\n.xr-dim-list {\n  display: inline-block !important;\n  list-style: none;\n  padding: 0 !important;\n  margin: 0;\n}\n\n.xr-dim-list li {\n  display: inline-block;\n  padding: 0;\n  margin: 0;\n}\n\n.xr-dim-list:before {\n  content: '(';\n}\n\n.xr-dim-list:after {\n  content: ')';\n}\n\n.xr-dim-list li:not(:last-child):after {\n  content: ',';\n  padding-right: 5px;\n}\n\n.xr-has-index {\n  font-weight: bold;\n}\n\n.xr-var-list,\n.xr-var-item {\n  display: contents;\n}\n\n.xr-var-item > div,\n.xr-var-item label,\n.xr-var-item > .xr-var-name span {\n  background-color: var(--xr-background-color-row-even);\n  margin-bottom: 0;\n}\n\n.xr-var-item > .xr-var-name:hover span {\n  padding-right: 5px;\n}\n\n.xr-var-list > li:nth-child(odd) > div,\n.xr-var-list > li:nth-child(odd) > label,\n.xr-var-list > li:nth-child(odd) > .xr-var-name span {\n  background-color: var(--xr-background-color-row-odd);\n}\n\n.xr-var-name {\n  grid-column: 1;\n}\n\n.xr-var-dims {\n  grid-column: 2;\n}\n\n.xr-var-dtype {\n  grid-column: 3;\n  text-align: right;\n  color: var(--xr-font-color2);\n}\n\n.xr-var-preview {\n  grid-column: 4;\n}\n\n.xr-var-name,\n.xr-var-dims,\n.xr-var-dtype,\n.xr-preview,\n.xr-attrs dt {\n  white-space: nowrap;\n  overflow: hidden;\n  text-overflow: ellipsis;\n  padding-right: 10px;\n}\n\n.xr-var-name:hover,\n.xr-var-dims:hover,\n.xr-var-dtype:hover,\n.xr-attrs dt:hover {\n  overflow: visible;\n  width: auto;\n  z-index: 1;\n}\n\n.xr-var-attrs,\n.xr-var-data {\n  display: none;\n  background-color: var(--xr-background-color) !important;\n  padding-bottom: 5px !important;\n}\n\n.xr-var-attrs-in:checked ~ .xr-var-attrs,\n.xr-var-data-in:checked ~ .xr-var-data {\n  display: block;\n}\n\n.xr-var-data > table {\n  float: right;\n}\n\n.xr-var-name span,\n.xr-var-data,\n.xr-attrs {\n  padding-left: 25px !important;\n}\n\n.xr-attrs,\n.xr-var-attrs,\n.xr-var-data {\n  grid-column: 1 / -1;\n}\n\ndl.xr-attrs {\n  padding: 0;\n  margin: 0;\n  display: grid;\n  grid-template-columns: 125px auto;\n}\n\n.xr-attrs dt,\n.xr-attrs dd {\n  padding: 0;\n  margin: 0;\n  float: left;\n  padding-right: 10px;\n  width: auto;\n}\n\n.xr-attrs dt {\n  font-weight: normal;\n  grid-column: 1;\n}\n\n.xr-attrs dt:hover span {\n  display: inline-block;\n  background: var(--xr-background-color);\n  padding-right: 10px;\n}\n\n.xr-attrs dd {\n  grid-column: 2;\n  white-space: pre-wrap;\n  word-break: break-all;\n}\n\n.xr-icon-database,\n.xr-icon-file-text2 {\n  display: inline-block;\n  vertical-align: middle;\n  width: 1em;\n  height: 1.5em !important;\n  stroke-width: 0;\n  stroke: currentColor;\n  fill: currentColor;\n}\n</style><pre class='xr-text-repr-fallback'>&lt;xarray.Dataset&gt;\nDimensions:   (phony_dim_0: 24750, phony_dim_1: 960)\nDimensions without coordinates: phony_dim_0, phony_dim_1\nData variables:\n    Acoustic  (phony_dim_0, phony_dim_1) int16 ...</pre><div class='xr-wrap' hidden><div class='xr-header'><div class='xr-obj-type'>xarray.Dataset</div></div><ul class='xr-sections'><li class='xr-section-item'><input id='section-32b3b72e-00d7-451a-87e7-1f1530f7a9f7' class='xr-section-summary-in' type='checkbox' disabled ><label for='section-32b3b72e-00d7-451a-87e7-1f1530f7a9f7' class='xr-section-summary'  title='Expand/collapse section'>Dimensions:</label><div class='xr-section-inline-details'><ul class='xr-dim-list'><li><span>phony_dim_0</span>: 24750</li><li><span>phony_dim_1</span>: 960</li></ul></div><div class='xr-section-details'></div></li><li class='xr-section-item'><input id='section-4fd6fd86-6997-493c-b25f-b5fa18599eec' class='xr-section-summary-in' type='checkbox' disabled ><label for='section-4fd6fd86-6997-493c-b25f-b5fa18599eec' class='xr-section-summary'  title='Expand/collapse section'>Coordinates: <span>(0)</span></label><div class='xr-section-inline-details'></div><div class='xr-section-details'><ul class='xr-var-list'></ul></div></li><li class='xr-section-item'><input id='section-412fcc97-4cbc-459a-aea0-aaf135765909' class='xr-section-summary-in' type='checkbox'  checked><label for='section-412fcc97-4cbc-459a-aea0-aaf135765909' class='xr-section-summary' >Data variables: <span>(1)</span></label><div class='xr-section-inline-details'></div><div class='xr-section-details'><ul class='xr-var-list'><li class='xr-var-item'><div class='xr-var-name'><span>Acoustic</span></div><div class='xr-var-dims'>(phony_dim_0, phony_dim_1)</div><div class='xr-var-dtype'>int16</div><div class='xr-var-preview xr-preview'>...</div><input id='attrs-5304c0fd-edbd-4769-a777-6ca6663e05ff' class='xr-var-attrs-in' type='checkbox' ><label for='attrs-5304c0fd-edbd-4769-a777-6ca6663e05ff' title='Show/Hide attributes'><svg class='icon xr-icon-file-text2'><use xlink:href='#icon-file-text2'></use></svg></label><input id='data-45c3d3b2-017e-4555-964c-db522f945cda' class='xr-var-data-in' type='checkbox'><label for='data-45c3d3b2-017e-4555-964c-db522f945cda' title='Show/Hide data repr'><svg class='icon xr-icon-database'><use xlink:href='#icon-database'></use></svg></label><div class='xr-var-attrs'><dl class='xr-attrs'><dt><span>SamplingFrequency[Hz] :</span></dt><dd>5000</dd><dt><span>Stop Distance (m) :</span></dt><dd>854.093337</dd><dt><span>Precise Sampling Frequency (Hz) :</span></dt><dd>90009.0009</dd><dt><span>PeakVoltage[V] :</span></dt><dd>2</dd><dt><span>Pulse 2 Delay (ns) :</span></dt><dd>500</dd><dt><span>PulseWidth[ns] :</span></dt><dd>50</dd><dt><span>OffsetLength :</span></dt><dd>64</dd><dt><span>PreTrigSamples :</span></dt><dd>94</dd><dt><span>Reference length :</span></dt><dd>0</dd><dt><span>SavingBandwidth (MB/s) :</span></dt><dd>350</dd><dt><span>Reference Level 1 :</span></dt><dd>65535</dd><dt><span>Reference Level 2 :</span></dt><dd>62567</dd><dt><span>Reference Level 3 :</span></dt><dd>59528</dd><dt><span>FibreIndex :</span></dt><dd>1.4682</dd><dt><span>Fibre Length Multiplier :</span></dt><dd>1.020952</dd><dt><span>UserZeroRef :</span></dt><dd>0</dd><dt><span>Unit Calibration (nm) :</span></dt><dd>116</dd><dt><span>Diff Amplify Factor :</span></dt><dd>0</dd><dt><span>Attenuator 2 :</span></dt><dd>0.870537</dd><dt><span>Fibre Length per Metre :</span></dt><dd>1</dd><dt><span>Zero Offset (m) :</span></dt><dd>-125.020952</dd><dt><span>Receiver Gain :</span></dt><dd>41.00\t41.00\t41.00\r\n</dd><dt><span>Pulse Width 2 (ns) :</span></dt><dd>50</dd><dt><span>Peak Voltage 2 (V) :</span></dt><dd>0</dd><dt><span>GaugeLength :</span></dt><dd>10</dd><dt><span>Attenuator 1 :</span></dt><dd>0</dd><dt><span>Time Decimation :</span></dt><dd>18</dd><dt><span>OutputDecimation[bool] :</span></dt><dd>4</dd><dt><span>P :</span></dt><dd>5</dd><dt><span>P Coefficients :</span></dt><dd>1.00\t1.00\t1.00\t1.00\t1.00\r\n</dd><dt><span>Integration Cut Off (Hz) :</span></dt><dd>3.14</dd><dt><span>Normalization :</span></dt><dd>True</dd><dt><span>Decimation Filter :</span></dt><dd>True</dd><dt><span>Acoustic Output :</span></dt><dd>Differential</dd><dt><span>Diagnostic Output :</span></dt><dd>R, S, As &amp; dP</dd><dt><span>Window :</span></dt><dd>0</dd><dt><span>GPSTimeStamp :</span></dt><dd>18/11/2019 12:26:58.769 (UTC)</dd><dt><span>Defragmented :</span></dt><dd>False</dd><dt><span>CPUTimeStamp :</span></dt><dd>18/11/2019 12:26:58.773 (UTC)</dd><dt><span>iDASVersion :</span></dt><dd>2.4.1.111</dd><dt><span>iDASClockSource :</span></dt><dd>AA Onboard PLL</dd><dt><span>ISO8601 Timestamp :</span></dt><dd>2019-11-18T12:26:58.769+00:00</dd><dt><span>SystemInfomation.Chassis.Model :</span></dt><dd></dd><dt><span>SystemInfomation.Chassis.SerialNum :</span></dt><dd></dd><dt><span>SystemInfomation.Chassis.FanRPMs :</span></dt><dd>0.00\t0.00\t0.00\r\n</dd><dt><span>SystemInfomation.Chassis.TempReadings :</span></dt><dd>0.00\t0.00\t0.00\t0.00\t0.00\t0.00\t0.00\t0.00\r\n</dd><dt><span>SystemInfomation.Chassis.VoltReadings :</span></dt><dd>0.00\t0.00\t0.00\t0.00\t0.00\r\n</dd><dt><span>SystemInfomation.Devices0.Model :</span></dt><dd>6683</dd><dt><span>SystemInfomation.Devices0.SerialNum :</span></dt><dd>01A4D486</dd><dt><span>SystemInfomation.Devices1.Model :</span></dt><dd>GPIB</dd><dt><span>SystemInfomation.Devices1.SerialNum :</span></dt><dd>0307FB5E</dd><dt><span>SystemInfomation.ProcessingUnit.APIRevision.ADQAPI :</span></dt><dd>18313</dd><dt><span>SystemInfomation.ProcessingUnit.APIRevision.UserAPI :</span></dt><dd>775</dd><dt><span>SystemInfomation.ProcessingUnit.APIRevision.UserLogic :</span></dt><dd>794</dd><dt><span>SystemInfomation.ProcessingUnit.FPGA1.Model :</span></dt><dd>AA-14-2</dd><dt><span>SystemInfomation.ProcessingUnit.FPGA1.SerialNum :</span></dt><dd>02831</dd><dt><span>SystemInfomation.ProcessingUnit.FPGA1.Firmware :</span></dt><dd>1.4P1</dd><dt><span>SystemInfomation.ProcessingUnit.FPGA1.TempReadings :</span></dt><dd>39.12\t65.44\t69.78\t40.12\t47.37\r\n</dd><dt><span>SystemInfomation.ProcessingUnit.FPGA2.Model :</span></dt><dd></dd><dt><span>SystemInfomation.ProcessingUnit.FPGA2.SerialNum :</span></dt><dd></dd><dt><span>SystemInfomation.ProcessingUnit.FPGA2.Firmware :</span></dt><dd></dd><dt><span>SystemInfomation.ProcessingUnit.FPGA2.TempReadings :</span></dt><dd>0.00\r\n</dd><dt><span>SystemInfomation.GPS.Status :</span></dt><dd>Uninitialized</dd><dt><span>SystemInfomation.GPS.SatellitesAvailable :</span></dt><dd>0</dd><dt><span>SystemInfomation.GPS.SelfSurvey :</span></dt><dd>0</dd><dt><span>SystemInfomation.GPS.TimeReference :</span></dt><dd>GPS</dd><dt><span>SystemInfomation.GPS.UTCOffset :</span></dt><dd>NaN</dd><dt><span>SystemInfomation.GPS.Latitude :</span></dt><dd>0</dd><dt><span>SystemInfomation.GPS.Longitude :</span></dt><dd>0</dd><dt><span>SystemInfomation.GPS.Altitude :</span></dt><dd>0</dd><dt><span>SystemInfomation.OS.HostName :</span></dt><dd>iDAS15040</dd><dt><span>SystemInfomation.OS.Version :</span></dt><dd>Windows 7 Professional Service Pack 1</dd><dt><span>SystemInfomation.OS.TimeZone :</span></dt><dd>UTC+00:00 Coordinated Universal Time</dd><dt><span>SystemInfomation.OS.DST :</span></dt><dd>0</dd><dt><span>SpatialResolution[m] :</span></dt><dd>1</dd><dt><span>StartPosition[m] :</span></dt><dd>96.544731</dd><dt><span>MeasureLength[m] :</span></dt><dd>960</dd><dt><span>StreamTime[s] :</span></dt><dd>5</dd><dt><span>Continuous Mode :</span></dt><dd>False</dd><dt><span>Source Mode :</span></dt><dd>Normal</dd><dt><span>Power Decrement :</span></dt><dd>0</dd><dt><span>Start Distance (m) :</span></dt><dd>-125.020952</dd><dt><span>Tags :</span></dt><dd></dd></dl></div><div class='xr-var-data'><pre>[23760000 values with dtype=int16]</pre></div></li></ul></div></li><li class='xr-section-item'><input id='section-c6b5ae65-84fd-42ed-9951-88cec575c84b' class='xr-section-summary-in' type='checkbox' disabled ><label for='section-c6b5ae65-84fd-42ed-9951-88cec575c84b' class='xr-section-summary'  title='Expand/collapse section'>Attributes: <span>(0)</span></label><div class='xr-section-inline-details'></div><div class='xr-section-details'><dl class='xr-attrs'></dl></div></li></ul></div></div>"
     },
     "execution_count": 90,
     "metadata": {},
     "output_type": "execute_result"
    }
   ],
   "source": [
    "ds_hdf = xr.open_dataset(h5_filename, engine='netcdf4')\n",
    "# The \"mask_and_scale\" option has no effect on hdf files\n",
    "# ds_hdf = xr.open_dataset(h5_filename, engine='netcdf4', mask_and_scale=False)\n",
    "ds_hdf"
   ],
   "metadata": {
    "collapsed": false,
    "pycharm": {
     "name": "#%%  Load dataset into xArray via netcdf\n"
    }
   }
  },
  {
   "cell_type": "code",
   "execution_count": 91,
   "outputs": [
    {
     "data": {
      "text/plain": "'dataset_zarr == dataset_hdf True'"
     },
     "execution_count": 91,
     "metadata": {},
     "output_type": "execute_result"
    }
   ],
   "source": [
    "is_equal = ds_zarr == ds_hdf\n",
    "is_equal_np = is_equal.to_array().to_numpy()\n",
    "f'dataset_zarr == dataset_hdf {np.all(is_equal_np)}'"
   ],
   "metadata": {
    "collapsed": false,
    "pycharm": {
     "name": "#%% Use built-in equity operator\n"
    }
   }
  },
  {
   "cell_type": "code",
   "execution_count": 92,
   "outputs": [
    {
     "data": {
      "text/plain": "'All DataArray elements are the same: True'"
     },
     "execution_count": 92,
     "metadata": {},
     "output_type": "execute_result"
    }
   ],
   "source": [
    "is_da_equal = ds_zarr.Acoustic == ds_hdf.Acoustic\n",
    "is_da_equal_np = is_da_equal.to_numpy()\n",
    "is_da_equal_np = np.squeeze(is_da_equal_np)\n",
    "f'All DataArray elements are the same: {np.all(is_equal_np)}'"
   ],
   "metadata": {
    "collapsed": false,
    "pycharm": {
     "name": "#%% Double check the data array as well\n"
    }
   }
  },
  {
   "cell_type": "code",
   "execution_count": 93,
   "outputs": [
    {
     "data": {
      "text/plain": "'23760000 are the same out of 23760000 (100.00000%)'"
     },
     "execution_count": 93,
     "metadata": {},
     "output_type": "execute_result"
    }
   ],
   "source": [
    "n_true = np.count_nonzero(is_da_equal_np)\n",
    "total = is_da_equal_np.size\n",
    "f'{n_true} are the same out of {total} ({100*n_true/total:.5f}%)'"
   ],
   "metadata": {
    "collapsed": false,
    "pycharm": {
     "name": "#%%  NOT NEEDED since they now match with both being int16s How much are different?\n"
    }
   }
  },
  {
   "cell_type": "code",
   "execution_count": 94,
   "outputs": [
    {
     "data": {
      "text/plain": "'No top level atttributes. len zarr attrs: 0, len of hdf attrs: 0'"
     },
     "execution_count": 94,
     "metadata": {},
     "output_type": "execute_result"
    }
   ],
   "source": [
    "attrs_zarr = ds_zarr.attrs\n",
    "attrs_hdf = ds_hdf.attrs\n",
    "f'No top level atttributes. len zarr attrs: {len(attrs_zarr)}, \\\n",
    "len of hdf attrs: {len(attrs_hdf)}'"
   ],
   "metadata": {
    "collapsed": false,
    "pycharm": {
     "name": "#%% Double attributes top level\n"
    }
   }
  },
  {
   "cell_type": "code",
   "execution_count": 95,
   "outputs": [
    {
     "data": {
      "text/plain": "'Acoustic atttributes. len zarr attrs: 84, len of hdf attrs: 83'"
     },
     "execution_count": 95,
     "metadata": {},
     "output_type": "execute_result"
    }
   ],
   "source": [
    "darray_attrs_zarr = ds_zarr.Acoustic.attrs\n",
    "darray_attrs_hdf = ds_hdf.Acoustic.attrs\n",
    "f'Acoustic atttributes. len zarr attrs: {len(darray_attrs_zarr)}, \\\n",
    "len of hdf attrs: {len(darray_attrs_hdf)}'"
   ],
   "metadata": {
    "collapsed": false,
    "pycharm": {
     "name": "#%% Double attributes Acoustic Data array\n"
    }
   }
  },
  {
   "cell_type": "code",
   "execution_count": 96,
   "outputs": [
    {
     "data": {
      "text/plain": "\"The extra key in zarr set is: {'_FillValue'}\""
     },
     "execution_count": 96,
     "metadata": {},
     "output_type": "execute_result"
    }
   ],
   "source": [
    "diff_keys = set(darray_attrs_zarr.keys()) - set(darray_attrs_hdf.keys())\n",
    "f'The extra key in zarr set is: {diff_keys}'"
   ],
   "metadata": {
    "collapsed": false,
    "pycharm": {
     "name": "#%% Looks like zarr has an extra value\n"
    }
   }
  },
  {
   "cell_type": "code",
   "execution_count": 97,
   "outputs": [
    {
     "data": {
      "text/plain": "'After removing extra key from zarr attrs they are both equal: True'"
     },
     "execution_count": 97,
     "metadata": {},
     "output_type": "execute_result"
    }
   ],
   "source": [
    "darray_attrs_zarr_fixed = darray_attrs_zarr.copy()\n",
    "del darray_attrs_zarr_fixed['_FillValue']\n",
    "\n",
    "f'After removing extra key from zarr attrs they are both equal: \\\n",
    "{darray_attrs_zarr_fixed == darray_attrs_hdf}'"
   ],
   "metadata": {
    "collapsed": false,
    "pycharm": {
     "name": "#%% Compare the common attrs\n"
    }
   }
  },
  {
   "cell_type": "code",
   "execution_count": 97,
   "outputs": [],
   "source": [],
   "metadata": {
    "collapsed": false,
    "pycharm": {
     "name": "#%%\n"
    }
   }
  }
 ],
 "metadata": {
  "kernelspec": {
   "display_name": "Python 3",
   "language": "python",
   "name": "python3"
  },
  "language_info": {
   "codemirror_mode": {
    "name": "ipython",
    "version": 2
   },
   "file_extension": ".py",
   "mimetype": "text/x-python",
   "name": "python",
   "nbconvert_exporter": "python",
   "pygments_lexer": "ipython2",
   "version": "2.7.6"
  }
 },
 "nbformat": 4,
 "nbformat_minor": 0
}