{
 "cells": [
  {
   "cell_type": "code",
   "execution_count": 3,
   "outputs": [],
   "source": [
    "import os\n",
    "import json\n",
    "\n",
    "import pandas as pd"
   ],
   "metadata": {
    "collapsed": false,
    "pycharm": {
     "name": "#%%\n"
    }
   }
  },
  {
   "cell_type": "code",
   "execution_count": 4,
   "outputs": [
    {
     "data": {
      "text/plain": "'results_20210809/das_h5/das_example_ref_fs.json has 49 references'"
     },
     "execution_count": 4,
     "metadata": {},
     "output_type": "execute_result"
    }
   ],
   "source": [
    "FOLDER = '/mnt/hgfs/ssd_tmp/'\n",
    "h5_filename = os.path.join(FOLDER, 'das_example.h5')\n",
    "\n",
    "reference_file = 'results_20210809/das_h5/das_example_ref_fs.json'\n",
    "\n",
    "with open(reference_file,'r') as f:\n",
    "  data = json.load(f)\n",
    "f\"{reference_file} has {len(data['refs'])} references\""
   ],
   "metadata": {
    "collapsed": false,
    "pycharm": {
     "name": "#%%\n"
    }
   }
  },
  {
   "cell_type": "code",
   "execution_count": 5,
   "outputs": [],
   "source": [
    "def create_reference_dataFrame(data):\n",
    "    '''\n",
    "        Create a dataframe from the references\n",
    "    '''\n",
    "    ref_l = []\n",
    "    template = data['templates']\n",
    "    print(template['u'])\n",
    "\n",
    "    for k,v in data['refs'].items():\n",
    "        if isinstance(v,list):\n",
    "            ref_d = {}\n",
    "            ref_d['name'] = k\n",
    "            ref_d['key'] = template[v[0][2]]\n",
    "            ref_d['offset'] = v[1]\n",
    "            ref_d['bytes'] = v[2]\n",
    "            ref_d['end'] = ref_d['offset'] + ref_d['bytes'] - 1\n",
    "            ref_l.append(ref_d)\n",
    "\n",
    "    # create dataframe sorted by offset and reindexed\n",
    "    df = pd.DataFrame(ref_l).sort_values('offset').reset_index()\n",
    "    #\n",
    "    # add gap column\n",
    "    df['gap'] = df['offset'] - df.shift(1)['end']\n",
    "\n",
    "    # return the dataframe\n",
    "    return df"
   ],
   "metadata": {
    "collapsed": false,
    "pycharm": {
     "name": "#%%\n"
    }
   }
  },
  {
   "cell_type": "code",
   "execution_count": 6,
   "outputs": [
    {
     "name": "stdout",
     "output_type": "stream",
     "text": [
      "file:///mnt/hgfs/ssd_tmp/das_example.h5\n",
      "   index          name                                      key   offset  \\\n",
      "0      0  Acoustic/0.0  file:///mnt/hgfs/ssd_tmp/das_example.h5    15664   \n",
      "1      1  Acoustic/1.0  file:///mnt/hgfs/ssd_tmp/das_example.h5  1063984   \n",
      "2     12  Acoustic/2.0  file:///mnt/hgfs/ssd_tmp/das_example.h5  2112304   \n",
      "3     23  Acoustic/3.0  file:///mnt/hgfs/ssd_tmp/das_example.h5  3160624   \n",
      "4     34  Acoustic/4.0  file:///mnt/hgfs/ssd_tmp/das_example.h5  4208944   \n",
      "\n",
      "     bytes      end  gap  \n",
      "0  1048320  1063983  NaN  \n",
      "1  1048320  2112303  1.0  \n",
      "2  1048320  3160623  1.0  \n",
      "3  1048320  4208943  1.0  \n",
      "4  1048320  5257263  1.0  \n"
     ]
    },
    {
     "data": {
      "text/plain": "'Total data: 48222720 Largest end: 48238383  Approximate coverage: 1.00'"
     },
     "execution_count": 6,
     "metadata": {},
     "output_type": "execute_result"
    }
   ],
   "source": [
    "ref_df = create_reference_dataFrame(data)\n",
    "total_data = ref_df.bytes.sum()\n",
    "maxEnd = ref_df.end.max()\n",
    "coverage = total_data / maxEnd\n",
    "print(ref_df.head())\n",
    "f\"Total data: {total_data} Largest end: {maxEnd}  Approximate coverage: {coverage:.2f}\""
   ],
   "metadata": {
    "collapsed": false,
    "pycharm": {
     "name": "#%%\n"
    }
   }
  },
  {
   "cell_type": "code",
   "execution_count": 7,
   "outputs": [
    {
     "data": {
      "text/plain": "   index          name                                      key   offset  \\\n0      0  Acoustic/0.0  file:///mnt/hgfs/ssd_tmp/das_example.h5    15664   \n1      1  Acoustic/1.0  file:///mnt/hgfs/ssd_tmp/das_example.h5  1063984   \n2     12  Acoustic/2.0  file:///mnt/hgfs/ssd_tmp/das_example.h5  2112304   \n3     23  Acoustic/3.0  file:///mnt/hgfs/ssd_tmp/das_example.h5  3160624   \n4     34  Acoustic/4.0  file:///mnt/hgfs/ssd_tmp/das_example.h5  4208944   \n5     41  Acoustic/5.0  file:///mnt/hgfs/ssd_tmp/das_example.h5  5257264   \n6     42  Acoustic/6.0  file:///mnt/hgfs/ssd_tmp/das_example.h5  6305584   \n7     43  Acoustic/7.0  file:///mnt/hgfs/ssd_tmp/das_example.h5  7353904   \n8     44  Acoustic/8.0  file:///mnt/hgfs/ssd_tmp/das_example.h5  8402224   \n9     45  Acoustic/9.0  file:///mnt/hgfs/ssd_tmp/das_example.h5  9450544   \n\n     bytes       end  gap  \n0  1048320   1063983  NaN  \n1  1048320   2112303  1.0  \n2  1048320   3160623  1.0  \n3  1048320   4208943  1.0  \n4  1048320   5257263  1.0  \n5  1048320   6305583  1.0  \n6  1048320   7353903  1.0  \n7  1048320   8402223  1.0  \n8  1048320   9450543  1.0  \n9  1048320  10498863  1.0  ",
      "text/html": "<div>\n<style scoped>\n    .dataframe tbody tr th:only-of-type {\n        vertical-align: middle;\n    }\n\n    .dataframe tbody tr th {\n        vertical-align: top;\n    }\n\n    .dataframe thead th {\n        text-align: right;\n    }\n</style>\n<table border=\"1\" class=\"dataframe\">\n  <thead>\n    <tr style=\"text-align: right;\">\n      <th></th>\n      <th>index</th>\n      <th>name</th>\n      <th>key</th>\n      <th>offset</th>\n      <th>bytes</th>\n      <th>end</th>\n      <th>gap</th>\n    </tr>\n  </thead>\n  <tbody>\n    <tr>\n      <th>0</th>\n      <td>0</td>\n      <td>Acoustic/0.0</td>\n      <td>file:///mnt/hgfs/ssd_tmp/das_example.h5</td>\n      <td>15664</td>\n      <td>1048320</td>\n      <td>1063983</td>\n      <td>NaN</td>\n    </tr>\n    <tr>\n      <th>1</th>\n      <td>1</td>\n      <td>Acoustic/1.0</td>\n      <td>file:///mnt/hgfs/ssd_tmp/das_example.h5</td>\n      <td>1063984</td>\n      <td>1048320</td>\n      <td>2112303</td>\n      <td>1.0</td>\n    </tr>\n    <tr>\n      <th>2</th>\n      <td>12</td>\n      <td>Acoustic/2.0</td>\n      <td>file:///mnt/hgfs/ssd_tmp/das_example.h5</td>\n      <td>2112304</td>\n      <td>1048320</td>\n      <td>3160623</td>\n      <td>1.0</td>\n    </tr>\n    <tr>\n      <th>3</th>\n      <td>23</td>\n      <td>Acoustic/3.0</td>\n      <td>file:///mnt/hgfs/ssd_tmp/das_example.h5</td>\n      <td>3160624</td>\n      <td>1048320</td>\n      <td>4208943</td>\n      <td>1.0</td>\n    </tr>\n    <tr>\n      <th>4</th>\n      <td>34</td>\n      <td>Acoustic/4.0</td>\n      <td>file:///mnt/hgfs/ssd_tmp/das_example.h5</td>\n      <td>4208944</td>\n      <td>1048320</td>\n      <td>5257263</td>\n      <td>1.0</td>\n    </tr>\n    <tr>\n      <th>5</th>\n      <td>41</td>\n      <td>Acoustic/5.0</td>\n      <td>file:///mnt/hgfs/ssd_tmp/das_example.h5</td>\n      <td>5257264</td>\n      <td>1048320</td>\n      <td>6305583</td>\n      <td>1.0</td>\n    </tr>\n    <tr>\n      <th>6</th>\n      <td>42</td>\n      <td>Acoustic/6.0</td>\n      <td>file:///mnt/hgfs/ssd_tmp/das_example.h5</td>\n      <td>6305584</td>\n      <td>1048320</td>\n      <td>7353903</td>\n      <td>1.0</td>\n    </tr>\n    <tr>\n      <th>7</th>\n      <td>43</td>\n      <td>Acoustic/7.0</td>\n      <td>file:///mnt/hgfs/ssd_tmp/das_example.h5</td>\n      <td>7353904</td>\n      <td>1048320</td>\n      <td>8402223</td>\n      <td>1.0</td>\n    </tr>\n    <tr>\n      <th>8</th>\n      <td>44</td>\n      <td>Acoustic/8.0</td>\n      <td>file:///mnt/hgfs/ssd_tmp/das_example.h5</td>\n      <td>8402224</td>\n      <td>1048320</td>\n      <td>9450543</td>\n      <td>1.0</td>\n    </tr>\n    <tr>\n      <th>9</th>\n      <td>45</td>\n      <td>Acoustic/9.0</td>\n      <td>file:///mnt/hgfs/ssd_tmp/das_example.h5</td>\n      <td>9450544</td>\n      <td>1048320</td>\n      <td>10498863</td>\n      <td>1.0</td>\n    </tr>\n  </tbody>\n</table>\n</div>"
     },
     "execution_count": 7,
     "metadata": {},
     "output_type": "execute_result"
    }
   ],
   "source": [
    "#\n",
    "# calculate the gap between contiguous blocks\n",
    "#\n",
    "ref_df['gap'] = ref_df['offset'] - ref_df.shift(1)['end']\n",
    "pd.set_option('max_colwidth', 90)\n",
    "ref_df.head(10)"
   ],
   "metadata": {
    "collapsed": false,
    "pycharm": {
     "name": "#%%\n"
    }
   }
  },
  {
   "cell_type": "code",
   "execution_count": 8,
   "outputs": [
    {
     "data": {
      "text/plain": "array([[<AxesSubplot:title={'center':'bytes'}>]], dtype=object)"
     },
     "execution_count": 8,
     "metadata": {},
     "output_type": "execute_result"
    },
    {
     "data": {
      "text/plain": "<Figure size 432x288 with 1 Axes>",
      "image/png": "[encoded data removed]"
     },
     "metadata": {
      "needs_background": "light"
     },
     "output_type": "display_data"
    }
   ],
   "source": [
    "ref_df.hist(column='bytes')"
   ],
   "metadata": {
    "collapsed": false,
    "pycharm": {
     "name": "#%%\n"
    }
   }
  },
  {
   "cell_type": "code",
   "execution_count": 9,
   "outputs": [
    {
     "data": {
      "text/plain": "Empty DataFrame\nColumns: [index, name, key, offset, bytes, end, gap]\nIndex: []",
      "text/html": "<div>\n<style scoped>\n    .dataframe tbody tr th:only-of-type {\n        vertical-align: middle;\n    }\n\n    .dataframe tbody tr th {\n        vertical-align: top;\n    }\n\n    .dataframe thead th {\n        text-align: right;\n    }\n</style>\n<table border=\"1\" class=\"dataframe\">\n  <thead>\n    <tr style=\"text-align: right;\">\n      <th></th>\n      <th>index</th>\n      <th>name</th>\n      <th>key</th>\n      <th>offset</th>\n      <th>bytes</th>\n      <th>end</th>\n      <th>gap</th>\n    </tr>\n  </thead>\n  <tbody>\n  </tbody>\n</table>\n</div>"
     },
     "execution_count": 9,
     "metadata": {},
     "output_type": "execute_result"
    }
   ],
   "source": [
    "ref_df[ref_df.bytes <= 10000].head(30)"
   ],
   "metadata": {
    "collapsed": false,
    "pycharm": {
     "name": "#%%\n"
    }
   }
  },
  {
   "cell_type": "code",
   "execution_count": 10,
   "outputs": [
    {
     "data": {
      "text/plain": "1048320    46\nName: bytes, dtype: int64"
     },
     "execution_count": 10,
     "metadata": {},
     "output_type": "execute_result"
    }
   ],
   "source": [
    "ref_df.bytes.value_counts()"
   ],
   "metadata": {
    "collapsed": false,
    "pycharm": {
     "name": "#%%\n"
    }
   }
  },
  {
   "cell_type": "code",
   "execution_count": 11,
   "outputs": [
    {
     "data": {
      "text/plain": "array([[<AxesSubplot:title={'center':'gap'}>]], dtype=object)"
     },
     "execution_count": 11,
     "metadata": {},
     "output_type": "execute_result"
    },
    {
     "data": {
      "text/plain": "<Figure size 432x288 with 1 Axes>",
      "image/png": "[encoded data removed]"
     },
     "metadata": {
      "needs_background": "light"
     },
     "output_type": "display_data"
    }
   ],
   "source": [
    "ref_df.hist(column='gap')"
   ],
   "metadata": {
    "collapsed": false,
    "pycharm": {
     "name": "#%%\n"
    }
   }
  },
  {
   "cell_type": "code",
   "execution_count": 12,
   "outputs": [
    {
     "data": {
      "text/plain": "Empty DataFrame\nColumns: [index, name, key, offset, bytes, end, gap]\nIndex: []",
      "text/html": "<div>\n<style scoped>\n    .dataframe tbody tr th:only-of-type {\n        vertical-align: middle;\n    }\n\n    .dataframe tbody tr th {\n        vertical-align: top;\n    }\n\n    .dataframe thead th {\n        text-align: right;\n    }\n</style>\n<table border=\"1\" class=\"dataframe\">\n  <thead>\n    <tr style=\"text-align: right;\">\n      <th></th>\n      <th>index</th>\n      <th>name</th>\n      <th>key</th>\n      <th>offset</th>\n      <th>bytes</th>\n      <th>end</th>\n      <th>gap</th>\n    </tr>\n  </thead>\n  <tbody>\n  </tbody>\n</table>\n</div>"
     },
     "execution_count": 12,
     "metadata": {},
     "output_type": "execute_result"
    }
   ],
   "source": [
    "ref_df[ref_df.gap > 1]"
   ],
   "metadata": {
    "collapsed": false,
    "pycharm": {
     "name": "#%%\n"
    }
   }
  }
 ],
 "metadata": {
  "kernelspec": {
   "display_name": "Python 3",
   "language": "python",
   "name": "python3"
  },
  "language_info": {
   "codemirror_mode": {
    "name": "ipython",
    "version": 2
   },
   "file_extension": ".py",
   "mimetype": "text/x-python",
   "name": "python",
   "nbconvert_exporter": "python",
   "pygments_lexer": "ipython2",
   "version": "2.7.6"
  }
 },
 "nbformat": 4,
 "nbformat_minor": 0
}